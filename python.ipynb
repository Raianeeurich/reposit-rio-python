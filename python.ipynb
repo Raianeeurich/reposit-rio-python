{
  "nbformat": 4,
  "nbformat_minor": 0,
  "metadata": {
    "colab": {
      "provenance": [],
      "authorship_tag": "ABX9TyPiPMCxz1KIq002w0QEBSV7",
      "include_colab_link": true
    },
    "kernelspec": {
      "name": "python3",
      "display_name": "Python 3"
    },
    "language_info": {
      "name": "python"
    }
  },
  "cells": [
    {
      "cell_type": "markdown",
      "metadata": {
        "id": "view-in-github",
        "colab_type": "text"
      },
      "source": [
        "<a href=\"https://colab.research.google.com/github/Raianeeurich/reposit-rio-python/blob/main/python.ipynb\" target=\"_parent\"><img src=\"https://colab.research.google.com/assets/colab-badge.svg\" alt=\"Open In Colab\"/></a>"
      ]
    },
    {
      "cell_type": "code",
      "execution_count": null,
      "metadata": {
        "id": "Lk1qeRUGzF7K"
      },
      "outputs": [],
      "source": []
    },
    {
      "cell_type": "markdown",
      "source": [
        "#**aula 1** ✨ 🎱 🚑"
      ],
      "metadata": {
        "id": "h81h9rC-zmIC"
      }
    },
    {
      "cell_type": "code",
      "source": [
        "ano = \"X\"\n",
        "print(ano, \"competição de programação da Start\")"
      ],
      "metadata": {
        "colab": {
          "base_uri": "https://localhost:8080/"
        },
        "id": "rhpqO4Mlz5Re",
        "outputId": "34b349e8-3b8b-4ab5-e188-54de2e5e1fa9"
      },
      "execution_count": null,
      "outputs": [
        {
          "output_type": "stream",
          "name": "stdout",
          "text": [
            "X competição de programação da Start\n"
          ]
        }
      ]
    },
    {
      "cell_type": "markdown",
      "source": [
        "#**aula 2**  ⛅ 🥰 🐜"
      ],
      "metadata": {
        "id": "9E1AYr592RjQ"
      }
    },
    {
      "cell_type": "code",
      "source": [
        "livro_ficcao = 8\n",
        "livro_n_ficcao = 10\n",
        "livro_infantil = 6\n",
        "pontos_rodrigo = livro_ficcao + livro_n_ficcao + livro_infantil\n",
        "pontos_ana = 2 * livro_ficcao + 5 * livro_infantil\n",
        "pontos_dos_dois = pontos_rodrigo + pontos_ana\n",
        "print(f\"Os pontos totais do Rodrigo são {pontos_rodrigo}\")\n",
        "print(f\"Os pontos totais de Ana são {pontos_ana}\")\n",
        "print(f\"Os pontos totais dos dois são {pontos_dos_dois}\")"
      ],
      "metadata": {
        "colab": {
          "base_uri": "https://localhost:8080/"
        },
        "id": "D9fzMFUC2VHd",
        "outputId": "e08188cd-47c2-471d-ebf8-9af26b91b441"
      },
      "execution_count": null,
      "outputs": [
        {
          "output_type": "stream",
          "name": "stdout",
          "text": [
            "Os pontos totais do Rodrigo são 24\n",
            "Os pontos totais de Ana são 46\n",
            "Os pontos totais dos dois são 70\n"
          ]
        }
      ]
    },
    {
      "cell_type": "markdown",
      "source": [
        "#**aula 3**  ⛺ ⏰ ⭐"
      ],
      "metadata": {
        "id": "cbrpG89Z7DKc"
      }
    },
    {
      "cell_type": "code",
      "source": [
        "total_de_figurinhas = int(input(\"Digite o total de figurinhas: \"))\n",
        "numero_de_amigos = int(input(\"Digite o número de amigos: \"))\n",
        "figurinhas_amigo = total_de_figurinhas // (numero_de_amigos + 2)\n",
        "figurinhas_joao2 = 2 * figurinhas_amigo\n",
        "figurinhas_extras = int(input(\"Digite o número de figurinhas extras: \"))\n",
        "figurinhas_extras = figurinhas_extras // (numero_de_amigos + 2)\n",
        "figurinhas_extras = figurinhas_extras * 2\n",
        "\n",
        "print(f\"João recebeu {figurinhas_joao} figurinhas\")\n",
        "print(f\"João recebeu {figurinhas_joao2} figurinhas extras\")"
      ],
      "metadata": {
        "colab": {
          "base_uri": "https://localhost:8080/"
        },
        "id": "-XT9NPQX7FWM",
        "outputId": "431cc97c-d9d0-4fc1-9340-8d5c8f8fcb13"
      },
      "execution_count": null,
      "outputs": [
        {
          "output_type": "stream",
          "name": "stdout",
          "text": [
            "Digite o total de figurinhas: 700\n",
            "Digite o número de amigos: 9\n",
            "Digite o número de figurinhas extras: 80\n",
            "João recebeu 108 figurinhas\n",
            "João recebeu 126 figurinhas extras\n"
          ]
        }
      ]
    },
    {
      "cell_type": "markdown",
      "source": [
        "#**aula 4** ✈ 🍒 🐧\n",
        "##dia de prova"
      ],
      "metadata": {
        "id": "4f5qoJxg3ztD"
      }
    },
    {
      "cell_type": "code",
      "source": [
        "P = int(input(\"Digite a posição da porta P (0 ou 1): \"))\n",
        "R = int(input(\"Digite a posição da porta R (0 ou 1): \"))\n",
        "if P == 0:\n",
        "    print(\"C\")\n",
        "elif R == 1:\n",
        "    print(\"A\")\n",
        "else:\n",
        "    print(\"B\")"
      ],
      "metadata": {
        "colab": {
          "base_uri": "https://localhost:8080/"
        },
        "id": "3rdYt42W72n6",
        "outputId": "cedfa8b9-9b47-4ae8-b605-5046d5a02b5b"
      },
      "execution_count": null,
      "outputs": [
        {
          "output_type": "stream",
          "name": "stdout",
          "text": [
            "Digite a posição da porta P (0 ou 1): 0\n",
            "Digite a posição da porta R (0 ou 1): 0\n",
            "C\n"
          ]
        }
      ]
    },
    {
      "cell_type": "markdown",
      "source": [
        "#**aula 5** - cálculo de IMC   👽 😰 🔪"
      ],
      "metadata": {
        "id": "0nLLiulx7bRp"
      }
    },
    {
      "cell_type": "code",
      "source": [
        "peso = float(input(\"Digite seu peso (em kg): \"))\n",
        "altura = float(input(\"Digite sua altura (em metros): \"))\n",
        "imc = peso / (altura ** 2)\n",
        "print(f\"\\nSeu IMC é: {imc:.2f}\")\n",
        "if imc < 18.5:\n",
        "    print(\"Você está abaixo do peso.\")\n",
        "elif 18.5 <= imc < 25:\n",
        "    print(\"Você está no peso ideal.\")\n",
        "elif 25 <= imc < 30:\n",
        "    print(\"Você está com sobrepeso.\")\n",
        "else:\n",
        "    print(\"Você está acima do peso.\")"
      ],
      "metadata": {
        "id": "J-7WJ5fI8ML2",
        "colab": {
          "base_uri": "https://localhost:8080/"
        },
        "outputId": "1c40717a-e04b-4d2f-b5b1-cac1ea37d234"
      },
      "execution_count": null,
      "outputs": [
        {
          "output_type": "stream",
          "name": "stdout",
          "text": [
            "Digite seu peso (em kg): 55\n",
            "Digite sua altura (em metros): 1.59\n",
            "\n",
            "Seu IMC é: 21.76\n",
            "Você está no peso ideal.\n"
          ]
        }
      ]
    },
    {
      "cell_type": "markdown",
      "source": [
        "##**aula 6** tabuada ✊ 🚡 ❄"
      ],
      "metadata": {
        "id": "5h9yfXBO_UUF"
      }
    },
    {
      "cell_type": "code",
      "source": [
        "def tabuada(numero):\n",
        "    for contador in range(1, 11):  # Gera números de 1 a 10\n",
        "        print(f\"{numero} x {contador} = {numero * contador}\")\n",
        "numero = int(input(\"Digite um número para ver sua tabuada: \"))\n",
        "tabuada(numero)"
      ],
      "metadata": {
        "colab": {
          "base_uri": "https://localhost:8080/"
        },
        "id": "sRXjnQLZ_0XR",
        "outputId": "7389085f-2b50-49ab-cb8d-f521f04517fb"
      },
      "execution_count": null,
      "outputs": [
        {
          "output_type": "stream",
          "name": "stdout",
          "text": [
            "Digite um número para ver sua tabuada: 12\n",
            "12 x 1 = 12\n",
            "12 x 2 = 24\n",
            "12 x 3 = 36\n",
            "12 x 4 = 48\n",
            "12 x 5 = 60\n",
            "12 x 6 = 72\n",
            "12 x 7 = 84\n",
            "12 x 8 = 96\n",
            "12 x 9 = 108\n",
            "12 x 10 = 120\n"
          ]
        }
      ]
    },
    {
      "cell_type": "markdown",
      "source": [
        "##**aula 7** idade ⛪ 🥑 🥯"
      ],
      "metadata": {
        "id": "9otnMemECK1t"
      }
    },
    {
      "cell_type": "code",
      "source": [
        "def calcula_idade_maior(idade_monica, idade_filho1, idade_filho2):\n",
        "idade_filho3 = idade_monica - idade_filho1 – idade_filho2\n",
        "idade_maxima = max(idade_filho1, idade_filho2, idade_filho3)\n",
        "return idade_filho3, idade_maxima\n",
        "  resultado = calcula_idade_maior(68, 12, 30)\n",
        "print(resultado)"
      ],
      "metadata": {
        "id": "ejUAQiytCa9V",
        "outputId": "8b50ad95-6a4a-41c3-814a-58e912a68bf3",
        "colab": {
          "base_uri": "https://localhost:8080/",
          "height": 106
        }
      },
      "execution_count": null,
      "outputs": [
        {
          "output_type": "error",
          "ename": "SyntaxError",
          "evalue": "invalid character '–' (U+2013) (ipython-input-2717106165.py, line 2)",
          "traceback": [
            "\u001b[0;36m  File \u001b[0;32m\"/tmp/ipython-input-2717106165.py\"\u001b[0;36m, line \u001b[0;32m2\u001b[0m\n\u001b[0;31m    idade_filho3 = idade_monica - idade_filho1 – idade_filho2\u001b[0m\n\u001b[0m                                               ^\u001b[0m\n\u001b[0;31mSyntaxError\u001b[0m\u001b[0;31m:\u001b[0m invalid character '–' (U+2013)\n"
          ]
        }
      ]
    },
    {
      "cell_type": "markdown",
      "source": [
        "#aula 8 ⏰ ⛵ 🎨"
      ],
      "metadata": {
        "id": "FcDbC17tAR7R"
      }
    },
    {
      "cell_type": "code",
      "source": [
        "print(\"Sou seu assistente virtual\")\n",
        "nome = input(\"digite seu nome: \")\n",
        "print(f\"Olá {nome}, em que posso ajudar?\")\n",
        "resposta == input(\"Qual assunto você deseja tratar? Matemática, Python ou Javascript: \").lower()\n",
        "if resposta ==\"python\":\n",
        "  print(\"Ótimo, vamos falar sobre Python!\")\n",
        "  print(\"\")\n",
        "elif resposta==\"matemática\":\n",
        "  print(\"Perfeito, vamos resolver umas questões de matemática!\")\n",
        "elif resposta==\"javascript\":\n",
        "  print(\"Que legal, vamos conversar sobre javascript!\")\n",
        "else:\n",
        "  print(\"Hum, não sei falar sobre esse assunto \")\n"
      ],
      "metadata": {
        "colab": {
          "base_uri": "https://localhost:8080/"
        },
        "id": "Q0rOJAdkEZDK",
        "outputId": "23d2756d-f72c-4c27-8533-ffc5cd0643bd"
      },
      "execution_count": null,
      "outputs": [
        {
          "output_type": "stream",
          "name": "stdout",
          "text": [
            "Sou seu assistente virtual\n",
            "digite seu nome: raiane\n",
            "Olá raiane, em que posso ajudar?\n",
            "Qual assunto você deseja tratar? Matemática, Python ou Javascript: matematica\n",
            "Hum, não sei falar sobre esse assunto \n"
          ]
        }
      ]
    }
  ]
}